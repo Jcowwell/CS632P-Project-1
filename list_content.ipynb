{
 "cells": [
  {
   "cell_type": "markdown",
   "metadata": {},
   "source": [
    "Note:\n",
    "    \n",
    "    1. When listing info about folders and files the level should be INFO.\n",
    "    \n",
    "    2. When the passing value for folder or file is not valid (folder or file doesn’t exist) the level should be WARNING.\n",
    "    \n",
    "    3. Any computation errors should be captured (e.g. total storage of files, folders, drives cannot be negative) and classified under the ERROR level.\n",
    "    \n",
    "    4. When Python can NOT read the OS structure, the level should be CRITICAL.\n",
    "    \n",
    "    5. Any other activity/message of the logger should have a level of DEBUG."
   ]
  },
  {
   "cell_type": "code",
   "execution_count": 5,
   "metadata": {},
   "outputs": [],
   "source": [
    "# PURP: - TO HANLDE INITAL LOGGING AND ARGS LOGIC. \n",
    "import logging\n",
    "import argparse\n",
    "from constants import D, DRV, L, FLD, F, FIL, T, TYP, LOG_FORMAT, LOG_DATE_FORMAT\n",
    "\n",
    "\n",
    "# MARK:- Logger Initilized\n",
    "logging.basicConfig(filename='dump.log', level=logging.DEBUG, format=LOG_FORMAT, datefmt=LOG_DATE_FORMAT)\n",
    "logging.debug(\"Logging Initilized\")\n",
    "\n",
    "# MARK:- Set up Argparse paramaeters\n",
    "parser = argparse.ArgumentParser()\n",
    "parser.add_argument(D, help='list all the drives of the machine with additional info')\n",
    "parser.add_argument(DRV, help='list additional info of single drive')\n",
    "\n",
    "parser.add_argument(L, help='list all the folders of the machine with additional info:')\n",
    "parser.add_argument(FLD, help='list additional info of single folder')\n",
    "\n",
    "parser.add_argument(F, help='list all the files of the machine with additional info')\n",
    "parser.add_argument(FIL, help='list additional info of single file')\n",
    "\n",
    "parser.add_argument(T, help='list all the types of files of the machine with additional info')\n",
    "parser.add_argument(TYP, help='list additional info of type of single file')\n",
    "logging.debug(\"Args Added\")\n",
    "\n",
    "args = parser.parse_args(args=['--fld', '/Volumes/'])"
   ]
  },
  {
   "cell_type": "markdown",
   "metadata": {},
   "source": [
    "List Drives\n",
    "\n",
    "    ‘-d’: To list all the drives of the machine with the following info:\n",
    "        - Drive name / letter\n",
    "        - Total number of directories\n",
    "        - Total number of files\n",
    "        - Total allocated, used, free storage\n",
    "    A positional argument ‘drv’ that will indicate the name of a single drive to report the above info."
   ]
  },
  {
   "cell_type": "code",
   "execution_count": 6,
   "metadata": {},
   "outputs": [],
   "source": [
    "from drive_dump import dump_drives, dump_drive\n",
    "from info_logger import log_drive_info, log_folders, log_folder\n",
    "\n",
    "# MARK:- Begin Args Parameters Handeling\n",
    "logging.debug(\"Beginning Args Handeling...\")\n",
    "# MARK:- -d args\n",
    "if args.d:\n",
    "    logging.debug('-d argument was passed')\n",
    "    logging.debug(\"Dumping Local Computer Drives info\")\n",
    "    try:\n",
    "        drives = dump_drives()\n",
    "        for drive in drives:\n",
    "            drive_name, num_of_files_and_dirs, storage = drive\n",
    "            log_drive_info(drive_name, num_of_files_and_dirs, storage)\n",
    "    except Exception:\n",
    "        logging.error(\"Could Not Dump Drive Info\")\n",
    "\n",
    "# MARK:- -drv args\n",
    "if args.drv:\n",
    "    logging.debug('-drv argument was passed')\n",
    "    logging.debug(\"Dumping info of %s Drive\" % args.drv)\n",
    "    drive = dump_drive(args.drv)\n",
    "    if drive is None:\n",
    "        logging.critical('Program was unable to process %s path' % args.drv)\n",
    "    else:\n",
    "        drive_name, num_of_files_and_dirs, storage = drive\n",
    "        log_drive_info(drive_name, num_of_files_and_dirs, storage)"
   ]
  },
  {
   "cell_type": "markdown",
   "metadata": {},
   "source": [
    "Lists Folders\n",
    "\n",
    "    l’: To list all the folders in a given drive with the following info:\n",
    "        - Folder name\n",
    "        - Total number of files per folder\n",
    "        - Total storage used per folder and sum of all storage for all folders.\n",
    "    A positional argument ‘fld’ that will pass the folder name to report the above info."
   ]
  },
  {
   "cell_type": "code",
   "execution_count": 7,
   "metadata": {},
   "outputs": [],
   "source": [
    "from folder_dump import dump_folder, dump_folders\n",
    "\n",
    "\n",
    "# MARK:- -l args\n",
    "if args.l:\n",
    "    logging.debug('-l argument was passed')\n",
    "    logging.debug('Dumping the info of %s drive' % args.l )\n",
    "\n",
    "    folders = dump_folders(args.l)\n",
    "    if folders is None:\n",
    "        logging.critical(\"The program was unable to obtain folder info \")\n",
    "        logging.error(\"Could Not Dump folder info\")\n",
    "    else:\n",
    "        log_folders(folders)\n",
    "\n",
    "# MARK:- --fld args\n",
    "if args.fld:\n",
    "    logging.debug('--fld argument was passed')\n",
    "    logging.debug('Dumping the info of %s folder' % args.fld)\n",
    "\n",
    "    folder = dump_folder(args.fld)\n",
    "    if folder is None:\n",
    "        logging.critical('The program was unable to obtain info from folder')\n",
    "        logging.error('Could not dump folder info')   \n",
    "    else:\n",
    "         log_folder(folder)"
   ]
  },
  {
   "cell_type": "markdown",
   "metadata": {},
   "source": [
    "Lists Files\n",
    "\n",
    "    ‘-f’: To list all the files of the machine with the following info:\n",
    "        - File name\n",
    "        - File type (‘py’, ‘ipynb’, ‘exe’, ‘txt’, ‘csv’, ‘pdf’, ‘other’)\n",
    "        - File size\n",
    "        - Date/Time stamp of the file\n",
    "    A positional argument ‘fil’ that will pass the file name to report the above info."
   ]
  },
  {
   "cell_type": "code",
   "execution_count": null,
   "metadata": {},
   "outputs": [],
   "source": []
  },
  {
   "cell_type": "markdown",
   "metadata": {},
   "source": [
    "Lists File Types\n",
    "\n",
    "    ‘-t’: To list all the types of files exist in the machine with the following info:\n",
    "        - File type\n",
    "        - Total number of files per file type\n",
    "        - Total storage used per file type\n",
    "    A positional argument ‘typ’ that will indicate the type of file to report the above info."
   ]
  }
 ],
 "metadata": {
  "kernelspec": {
   "display_name": "Python 3.8.2 64-bit",
   "language": "python",
   "name": "python38264bit909a94fc33264abeb54fd7b8772f30e0"
  },
  "language_info": {
   "codemirror_mode": {
    "name": "ipython",
    "version": 3
   },
   "file_extension": ".py",
   "mimetype": "text/x-python",
   "name": "python",
   "nbconvert_exporter": "python",
   "pygments_lexer": "ipython3",
   "version": "3.8.2"
  },
  "orig_nbformat": 2
 },
 "nbformat": 4,
 "nbformat_minor": 2
}