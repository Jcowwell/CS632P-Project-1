{
 "cells": [
  {
   "cell_type": "markdown",
   "metadata": {},
   "source": [
    "Note:\n",
    "    \n",
    "    1. When listing info about folders and files the level should be INFO.\n",
    "    \n",
    "    2. When the passing value for folder or file is not valid (folder or file doesn’t exist) the level should be WARNING.\n",
    "    \n",
    "    3. Any computation errors should be captured (e.g. total storage of files, folders, drives cannot be negative) and classified under the ERROR level.\n",
    "    \n",
    "    4. When Python can NOT read the OS structure, the level should be CRITICAL.\n",
    "    \n",
    "    5. Any other activity/message of the logger should have a level of DEBUG."
   ]
  },
  {
   "cell_type": "code",
   "execution_count": 2,
   "metadata": {},
   "outputs": [],
   "source": [
    "# PURP: - TO HANLDE INITAL LOGGING AND ARGS LOGIC. \r\n",
    "import logging\r\n",
    "import argparse\r\n",
    "from constants import D, DRV, L, FLD, F, FIL, T, TYP, LOG_FORMAT, LOG_DATE_FORMAT\r\n",
    "\r\n",
    "\r\n",
    "# MARK:- Logger Initilized\r\n",
    "logging.basicConfig(filename='dump.log', level=logging.DEBUG, format=LOG_FORMAT, datefmt=LOG_DATE_FORMAT)\r\n",
    "logging.debug(\"Logging Initilized\")\r\n",
    "\r\n",
    "# MARK:- Set up Argparse paramaeters\r\n",
    "parser = argparse.ArgumentParser()\r\n",
    "parser.add_argument(D, help='list all the drives of the machine with additional info')\r\n",
    "parser.add_argument(DRV, help='list additional info of single drive')\r\n",
    "\r\n",
    "parser.add_argument(L, help='list all the folders of the machine with additional info:')\r\n",
    "parser.add_argument(FLD, help='list additional info of single folder')\r\n",
    "\r\n",
    "parser.add_argument(F, help='list all the files of the machine with additional info')\r\n",
    "parser.add_argument(FIL, help='list additional info of single file')\r\n",
    "\r\n",
    "parser.add_argument(T, help='list all the types of files of the machine with additional info')\r\n",
    "parser.add_argument(TYP, help='list additional info of type of single file')\r\n",
    "logging.debug(\"Args Added\")\r\n",
    "\r\n",
    "args = parser.parse_args(args=['-d', 'D'])"
   ]
  },
  {
   "cell_type": "markdown",
   "metadata": {},
   "source": [
    "List Drives\n",
    "\n",
    "    ‘-d’: To list all the drives of the machine with the following info:\n",
    "        - Drive name / letter\n",
    "        - Total number of directories\n",
    "        - Total number of files\n",
    "        - Total allocated, used, free storage\n",
    "    A positional argument ‘drv’ that will indicate the name of a single drive to report the above info."
   ]
  },
  {
   "cell_type": "code",
   "execution_count": 7,
   "metadata": {},
   "outputs": [],
   "source": [
    "from drive_dump import dump_drives, dump_drive\r\n",
    "from info_logger import log_drive_info\r\n",
    "\r\n",
    "# MARK:- Begin Args Parameters Handeling\r\n",
    "logging.debug(\"Beginning Args Handeling...\")\r\n",
    "# MARK:- -d args\r\n",
    "if args.d:\r\n",
    "    logging.debug('-d argument was passed')\r\n",
    "    logging.debug(\"Dumping Local Computer Drives info\")\r\n",
    "    try:\r\n",
    "        drives = dump_drives()\r\n",
    "        for drive in drives:\r\n",
    "            drive_name, num_of_files_and_dirs, storage = drive\r\n",
    "            log_drive_info(drive_name, num_of_files_and_dirs, storage)\r\n",
    "    except Exception:\r\n",
    "        logging.error(\"Could Not Dump Drive Info\")\r\n",
    "\r\n",
    "# MARK:- -drv args\r\n",
    "if args.drv:\r\n",
    "    logging.debug('-drv argument was passed')\r\n",
    "    logging.debug(\"Dumping info of %s Drive\" % args.drv)\r\n",
    "    drive = dump_drive(args.drv)\r\n",
    "    if drive is None:\r\n",
    "        logging.critical('Program was unable to process %s path' % args.drv)\r\n",
    "    else:\r\n",
    "        drive_name, num_of_files_and_dirs, storage = drive\r\n",
    "        log_drive_info(drive_name, num_of_files_and_dirs, storage)"
   ]
  },
  {
   "cell_type": "markdown",
   "metadata": {},
   "source": [
    "Lists Folders\n",
    "\n",
    "    l’: To list all the folders in a given drive with the following info:\n",
    "        - Folder name\n",
    "        - Total number of files per folder\n",
    "        - Total storage used per folder and sum of all storage for all folders.\n",
    "    A positional argument ‘fld’ that will pass the folder name to report the above info."
   ]
  },
  {
   "cell_type": "code",
   "execution_count": 16,
   "metadata": {},
   "outputs": [
    {
     "name": "stdout",
     "output_type": "stream",
     "text": [
      "([('Macintosh HD', 1, ('926.35 GB', '18.02 GB', '786.56 GB'))], ('926.35 GB', '115.79 GB', '786.56 GB'))\n"
     ]
    }
   ],
   "source": [
    "from os import walk, path, scandir\n",
    "import shutil\n",
    "from drive_dump import get_disk_info\n",
    "from helper import format_size\n",
    "from constants import COMP_ERROR\n",
    "import logging\n",
    "\n",
    "\n",
    "# Within folder_dump logic\n",
    "def get_folder_and_num_of_files(directory):\n",
    "    files = 0\n",
    "    folders = []\n",
    "    try:\n",
    "        for pathnames, dirnames, _ in walk(directory):\n",
    "            for folder in dirnames:\n",
    "                _files = [f.path for f in scandir(path.join(pathnames, folder)) if f.is_file()]\n",
    "                files+= len(_files)\n",
    "                folders.append((folder,files))\n",
    "            break\n",
    "    except Exception:\n",
    "        logging.critical(\"Cannot get count of drive's folder files and folders\")\n",
    "        return [] # empty lists I work out null handling\n",
    "    if files < 0:\n",
    "        logging.error(\"File count less than 0\")\n",
    "    if len(folders) < 0:\n",
    "        logging.error(\"Folder count less than 0\")\n",
    "\n",
    "    return folders\n",
    "\n",
    "folders = []\n",
    "for folder in get_folder_and_num_of_files('/Volumes/'):\n",
    "    foldername, num_of_files = folder\n",
    "    folder += (get_disk_info('/Volumes/' + foldername),)\n",
    "    folders.append(folder)\n",
    "#  Suppose to be returned\n",
    "tup = (folders, get_disk_info('/Volumes/'))\n",
    "print(tup)\n",
    "\n",
    "\n",
    "if args.fld:\n",
    "    # Check if valid file path and log it accordingly\n",
    "    # if valid, get os.basename for clean filename\n",
    "    # get file number by making a method similar to the loop involving files from get_folder_and_num_of_files\n",
    "    # get used by using get_disk_info function (used is the middle tuple)\n",
    "    print(\"A\")\n"
   ]
  },
  {
   "cell_type": "markdown",
   "metadata": {},
   "source": [
    "Lists Files\n",
    "\n",
    "    ‘-f’: To list all the files of the machine with the following info:\n",
    "        - File name\n",
    "        - File type (‘py’, ‘ipynb’, ‘exe’, ‘txt’, ‘csv’, ‘pdf’, ‘other’)\n",
    "        - File size\n",
    "        - Date/Time stamp of the file\n",
    "    A positional argument ‘fil’ that will pass the file name to report the above info."
   ]
  },
  {
   "cell_type": "code",
   "execution_count": null,
   "metadata": {},
   "outputs": [],
   "source": []
  },
  {
   "cell_type": "markdown",
   "metadata": {},
   "source": [
    "Lists File Types\n",
    "\n",
    "    ‘-t’: To list all the types of files exist in the machine with the following info:\n",
    "        - File type\n",
    "        - Total number of files per file type\n",
    "        - Total storage used per file type\n",
    "    A positional argument ‘typ’ that will indicate the type of file to report the above info."
   ]
  }
 ],
 "metadata": {
  "kernelspec": {
   "display_name": "Python 3",
   "language": "python",
   "name": "python3"
  },
  "language_info": {
   "codemirror_mode": {
    "name": "ipython",
    "version": 3
   },
   "file_extension": ".py",
   "mimetype": "text/x-python",
   "name": "python",
   "nbconvert_exporter": "python",
   "pygments_lexer": "ipython3",
   "version": "3.7.3"
  },
  "orig_nbformat": 2
 },
 "nbformat": 4,
 "nbformat_minor": 2
}