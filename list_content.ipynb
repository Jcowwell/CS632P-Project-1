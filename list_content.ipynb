{
 "cells": [
  {
   "cell_type": "markdown",
   "metadata": {},
   "source": [
    "Note:\n",
    "    \n",
    "    1. When listing info about folders and files the level should be INFO.\n",
    "    \n",
    "    2. When the passing value for folder or file is not valid (folder or file doesn’t exist) the level should be WARNING.\n",
    "    \n",
    "    3. Any computation errors should be captured (e.g. total storage of files, folders, drives cannot be negative) and classified under the ERROR level.\n",
    "    \n",
    "    4. When Python can NOT read the OS structure, the level should be CRITICAL.\n",
    "    \n",
    "    5. Any other activity/message of the logger should have a level of DEBUG."
   ]
  },
  {
   "cell_type": "code",
   "execution_count": 1,
   "metadata": {},
   "outputs": [],
   "source": [
    "# NOTE: - To Handle Initial Logging And Args Logic\n",
    "# REVIEW: - Check if Windows Systems are 100% compatible\n",
    "\n",
    "import logging\n",
    "from constants import D, DRV, L, FLD, F, FIL, T, TYP, LOG_FORMAT, LOG_DATE_FORMAT\n",
    "\n",
    "# NOTE: - Logger Initilized\n",
    "logging.basicConfig(filename='dump.log', level=logging.DEBUG, format=LOG_FORMAT, datefmt=LOG_DATE_FORMAT)\n",
    "logging.debug(\"Logging Initilized\")\n",
    "\n",
    "import argparse\n",
    "from info_logger import log_drives, log_drive, log_folders, log_folder, log_files, log_file, log_file_types\n",
    "\n",
    "# SECTION ARGS Initilization\n",
    "# NOTE: - Set up Argparse paramaeters\n",
    "\n",
    "parser = argparse.ArgumentParser()\n",
    "parser.add_argument(D, help='list all the drives of the machine with additional info')\n",
    "parser.add_argument(DRV, help='list additional info of single drive')\n",
    "\n",
    "parser.add_argument(L, help='list all the folders of the machine with additional info:')\n",
    "parser.add_argument(FLD, help='list additional info of single folder')\n",
    "\n",
    "parser.add_argument(F, help='list all the files of the machine with additional info')\n",
    "parser.add_argument(FIL, help='list additional info of single file')\n",
    "\n",
    "parser.add_argument(T, help='list all the types of files of the machine with additional info')\n",
    "parser.add_argument(TYP, help='list additional info of type of single file')\n",
    "logging.debug(\"Args Added\")\n",
    "\n",
    "# In-Code arg passing (For Testing)\n",
    "args = parser.parse_args(args=['-t', 'T'])\n",
    "\n",
    "# SECTION ARGS Handeling\n",
    "# NOTE: - Beginning Args Parameters Handeling\n",
    "logging.debug(\"Beginning Args Handeling...\")"
   ]
  },
  {
   "cell_type": "markdown",
   "metadata": {},
   "source": [
    "List Drives\n",
    "\n",
    "    ‘-d’: To list all the drives of the machine with the following info:\n",
    "        - Drive name / letter\n",
    "        - Total number of directories\n",
    "        - Total number of files\n",
    "        - Total allocated, used, free storage\n",
    "    A positional argument ‘drv’ that will indicate the name of a single drive to report the above info."
   ]
  },
  {
   "cell_type": "code",
   "execution_count": 2,
   "metadata": {},
   "outputs": [],
   "source": [
    "from drive_dump import dump_drives, dump_drive\n",
    "\n",
    "# SECTION -d and --drv\n",
    "# NOTE: - -d args\n",
    "if args.d:\n",
    "    logging.debug('-d argument was passed')\n",
    "    logging.debug(\"Dumping Local Computer Drives info\")\n",
    "\n",
    "    drives = dump_drives()\n",
    "    if drives is None:\n",
    "        logging.critical('Program was unable to process request')\n",
    "        logging.error(\"Could Not Dump Drive Info\")\n",
    "    else: \n",
    "        log_drives(drives)\n",
    "       \n",
    "\n",
    "# NOTE: - -drv args\n",
    "if args.drv:\n",
    "    logging.debug('-drv argument was passed')\n",
    "    logging.debug(\"Dumping info of %s Drive\" % args.drv)\n",
    "    drive = dump_drive(args.drv)\n",
    "    if drive is None:\n",
    "        logging.critical('Program was unable to process %s path' % args.drv)\n",
    "    else:\n",
    "        log_drive(drive)"
   ]
  },
  {
   "cell_type": "markdown",
   "metadata": {},
   "source": [
    "Lists Folders\n",
    "\n",
    "    l’: To list all the folders in a given drive with the following info:\n",
    "        - Folder name\n",
    "        - Total number of files per folder\n",
    "        - Total storage used per folder and sum of all storage for all folders.\n",
    "    A positional argument ‘fld’ that will pass the folder name to report the above info."
   ]
  },
  {
   "cell_type": "code",
   "execution_count": 3,
   "metadata": {},
   "outputs": [],
   "source": [
    "from folder_dump import dump_folder, dump_folders\n",
    "\n",
    "# SECTION -l and --fld\n",
    "# NOTE: - -l args\n",
    "if args.l:\n",
    "    logging.debug('-l argument was passed')\n",
    "    logging.debug('Dumping the info of %s drive' % args.l )\n",
    "\n",
    "    folders = dump_folders(args.l)\n",
    "    if folders is None:\n",
    "        logging.critical(\"The program was unable to obtain folder info \")\n",
    "        logging.error(\"Could Not Dump folder info\")\n",
    "    else:\n",
    "        log_folders(folders)\n",
    "\n",
    "# NOTE: - --fld args\n",
    "if args.fld:\n",
    "    logging.debug('--fld argument was passed')\n",
    "    logging.debug('Dumping the info of %s folder' % args.fld)\n",
    "\n",
    "    folder = dump_folder(args.fld)\n",
    "    if folder is None:\n",
    "        logging.critical('The program was unable to obtain info from %s' % args.fld)  \n",
    "    else:\n",
    "         log_folder(folder)"
   ]
  },
  {
   "cell_type": "markdown",
   "metadata": {},
   "source": [
    "Lists Files\n",
    "\n",
    "    ‘-f’: To list all the files of the machine with the following info:\n",
    "        - File name\n",
    "        - File type (‘py’, ‘ipynb’, ‘exe’, ‘txt’, ‘csv’, ‘pdf’, ‘other’)\n",
    "        - File size\n",
    "        - Date/Time stamp of the file\n",
    "    A positional argument ‘fil’ that will pass the file name to report the above info."
   ]
  },
  {
   "cell_type": "code",
   "execution_count": 4,
   "metadata": {},
   "outputs": [],
   "source": [
    "from file_dump import dump_files, dump_file\n",
    "\n",
    "# SECTION -f and --fil\n",
    "# NOTE: - -f args\n",
    "if args.f:\n",
    "    logging.debug('-f argument was passed')\n",
    "    logging.debug(\"Dumping the info of this machine's files...Hold your butcheeks\")\n",
    "    files = dump_files()\n",
    "    if files is None:\n",
    "        logging.critical('The program was unable to obtain files info from this machine')\n",
    "        logging.error(\"Could not dump this machine's file's info\") \n",
    "    else:\n",
    "        log_files(files)\n",
    "\n",
    "# NOTE: - --fil args\n",
    "if args.fil:\n",
    "    logging.debug('--fil argument was passed')\n",
    "    logging.debug('Dumping the info of %s' % args.fil)\n",
    "    file = dump_file(args.fil)\n",
    "    if file is None:\n",
    "        logging.critical('The program was unable to obtain info from %s' % args.fil)\n",
    "    else:\n",
    "        log_file(file)"
   ]
  },
  {
   "cell_type": "markdown",
   "metadata": {},
   "source": [
    "Lists File Types\n",
    "\n",
    "    ‘-t’: To list all the types of files exist in the machine with the following info:\n",
    "        - File type\n",
    "        - Total number of files per file type\n",
    "        - Total storage used per file type\n",
    "    A positional argument ‘typ’ that will indicate the type of file to report the above info."
   ]
  },
  {
   "cell_type": "code",
   "execution_count": 5,
   "metadata": {},
   "outputs": [],
   "source": [
    "from file_type_dump import dump_file_types, dump_file_type\n",
    "\n",
    "# SECTION -t and --typ\n",
    "# NOTE: - -t args\n",
    "if args.t:\n",
    "    logging.debug('-t argument was passed')\n",
    "    logging.debug(\"list all type and the total storage\")\n",
    "    file_types = dump_file_types()\n",
    "    if file_types is None:\n",
    "        logging.critical('The program was unable to obtain file types info from this machine')\n",
    "        logging.error(\"Could not dump this machine's file types info\") \n",
    "    else:\n",
    "        log_file_types(file_types)\n",
    "\n",
    "# NOTE: - -typ args\n",
    "if args.typ:\n",
    "    logging.debug('--typ argument was passed')\n",
    "    logging.debug(\"list all type and the total storage\")\n",
    "    file_types = dump_file_type(args.typ)\n",
    "    if file_types is None:\n",
    "        logging.critical('The program was unable to obtain info from %s' % args.fil) \n",
    "    else:\n",
    "        log_file_types(file_types)"
   ]
  }
 ],
 "metadata": {
  "kernelspec": {
   "display_name": "Python 3.8.2 64-bit",
   "language": "python",
   "name": "python38264bit909a94fc33264abeb54fd7b8772f30e0"
  },
  "language_info": {
   "codemirror_mode": {
    "name": "ipython",
    "version": 3
   },
   "file_extension": ".py",
   "mimetype": "text/x-python",
   "name": "python",
   "nbconvert_exporter": "python",
   "pygments_lexer": "ipython3",
   "version": "3.8.2"
  },
  "orig_nbformat": 2
 },
 "nbformat": 4,
 "nbformat_minor": 2
}